{
 "cells": [
  {
   "cell_type": "markdown",
   "id": "2b7505a9",
   "metadata": {},
   "source": [
    "# SURE_REACH DEMO"
   ]
  },
  {
   "cell_type": "code",
   "execution_count": 1,
   "id": "5db782bf",
   "metadata": {},
   "outputs": [
    {
     "name": "stdout",
     "output_type": "stream",
     "text": [
      "pygame 2.1.2 (SDL 2.0.18, Python 3.9.7)\n",
      "Hello from the pygame community. https://www.pygame.org/contribute.html\n"
     ]
    }
   ],
   "source": [
    "import SURE_REACH_functions as sure\n",
    "import numpy as np"
   ]
  },
  {
   "cell_type": "markdown",
   "id": "04a55270",
   "metadata": {},
   "source": [
    "# Goal Directed Movement"
   ]
  },
  {
   "cell_type": "code",
   "execution_count": 2,
   "id": "b09679ed",
   "metadata": {},
   "outputs": [
    {
     "ename": "SystemExit",
     "evalue": "",
     "output_type": "error",
     "traceback": [
      "An exception has occurred, use %tb to see the full traceback.\n",
      "\u001b[1;31mSystemExit\u001b[0m\n"
     ]
    },
    {
     "name": "stderr",
     "output_type": "stream",
     "text": [
      "C:\\Users\\cezar\\anaconda3\\lib\\site-packages\\IPython\\core\\interactiveshell.py:3452: UserWarning: To exit: use 'exit', 'quit', or Ctrl-D.\n",
      "  warn(\"To exit: use 'exit', 'quit', or Ctrl-D.\", stacklevel=1)\n"
     ]
    }
   ],
   "source": [
    "#the simulation has sliders that can adjust the posture that is to be assumed by the arm\n",
    "sure.g = np.pi/30 #movmement rate of the arm\n",
    "sure.demo_posture()"
   ]
  },
  {
   "cell_type": "markdown",
   "id": "b42a1dfc",
   "metadata": {},
   "source": [
    "# Reduced Joint Mobility"
   ]
  },
  {
   "cell_type": "code",
   "execution_count": 3,
   "id": "4d3bb512",
   "metadata": {},
   "outputs": [
    {
     "ename": "SystemExit",
     "evalue": "",
     "output_type": "error",
     "traceback": [
      "An exception has occurred, use %tb to see the full traceback.\n",
      "\u001b[1;31mSystemExit\u001b[0m\n"
     ]
    }
   ],
   "source": [
    "# the variable v = [shoulder, elbow, wrist] can vary the mobility of joints, setting it to zero causes the joint to stop moving\n",
    "sure.demo_posture(v = [1,1,.05,.05,1,1])"
   ]
  },
  {
   "cell_type": "markdown",
   "id": "cb72da6d",
   "metadata": {},
   "source": [
    "# Join Immobilization"
   ]
  },
  {
   "cell_type": "code",
   "execution_count": 4,
   "id": "84cc9b88",
   "metadata": {},
   "outputs": [
    {
     "ename": "SystemExit",
     "evalue": "",
     "output_type": "error",
     "traceback": [
      "An exception has occurred, use %tb to see the full traceback.\n",
      "\u001b[1;31mSystemExit\u001b[0m\n"
     ]
    }
   ],
   "source": [
    "sure.demo_posture(v = [1,1,0,0,1,1])"
   ]
  },
  {
   "cell_type": "markdown",
   "id": "172d578a",
   "metadata": {},
   "source": [
    "# Obstacle Avoidance"
   ]
  },
  {
   "cell_type": "code",
   "execution_count": 5,
   "id": "17a5a274",
   "metadata": {},
   "outputs": [],
   "source": [
    "#this demonstation shows how the arm can alter its trajectory by anticipating an obstacle on its way\n",
    "\n",
    "W_PM, W_is, _ = sure.load_matrices()\n",
    "#x1,x2, y1,y2= 1,5, 15,20 #coordinates of the obstacle\n",
    "x1,x2, y1,y2= 0,6, 6,15 #coordinates of the obstacle\n",
    "h_deac = sure.obstacle_perception(x1,x2, y1,y2)\n",
    "p_deac = sure.normalize_vec(np.matmul(W_PM, h_deac))\n",
    "pics = sure.obstacle_avoidence(y1,y2, x1,x2)"
   ]
  },
  {
   "cell_type": "code",
   "execution_count": null,
   "id": "1f41634f",
   "metadata": {},
   "outputs": [],
   "source": []
  }
 ],
 "metadata": {
  "kernelspec": {
   "display_name": "Python 3 (ipykernel)",
   "language": "python",
   "name": "python3"
  },
  "language_info": {
   "codemirror_mode": {
    "name": "ipython",
    "version": 3
   },
   "file_extension": ".py",
   "mimetype": "text/x-python",
   "name": "python",
   "nbconvert_exporter": "python",
   "pygments_lexer": "ipython3",
   "version": "3.9.7"
  }
 },
 "nbformat": 4,
 "nbformat_minor": 5
}
